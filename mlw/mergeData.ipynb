{
 "cells": [
  {
   "cell_type": "code",
   "execution_count": 15,
   "metadata": {},
   "outputs": [],
   "source": [
    "import pandas as pd\r\n",
    "flippingActivity=pd.read_csv('../Data/flippingData2.csv')\r\n",
    "holdingActivity=pd.read_csv('../Data/holdingData2.csv')\r\n",
    "wavingActivity=pd.read_csv('../Data/wavingData3.csv')\r\n",
    "idleActivity = pd.read_csv('../Data/idleData.csv')\r\n"
   ]
  },
  {
   "cell_type": "code",
   "execution_count": 16,
   "metadata": {},
   "outputs": [
    {
     "data": {
      "text/plain": [
       "(480, 8)"
      ]
     },
     "execution_count": 16,
     "metadata": {},
     "output_type": "execute_result"
    }
   ],
   "source": [
    "flippingActivity['label']='flipping'\r\n",
    "holdingActivity['label']='holding'\r\n",
    "wavingActivity['label']='waving'\r\n",
    "idleActivity['label']='idle'\r\n",
    "activityData=pd.concat([flippingActivity,holdingActivity,wavingActivity,idleActivity])\r\n",
    "activityData.shape\r\n",
    "\r\n",
    "\r\n",
    "\r\n"
   ]
  },
  {
   "cell_type": "code",
   "execution_count": 17,
   "metadata": {},
   "outputs": [],
   "source": [
    "activityData=activityData.reset_index()\r\n",
    "activityData.to_csv('../Data/activityData.csv',index=False)\r\n",
    "\r\n",
    "\r\n"
   ]
  },
  {
   "cell_type": "code",
   "execution_count": null,
   "metadata": {},
   "outputs": [],
   "source": []
  },
  {
   "cell_type": "code",
   "execution_count": 4,
   "metadata": {},
   "outputs": [],
   "source": []
  },
  {
   "cell_type": "code",
   "execution_count": null,
   "metadata": {},
   "outputs": [],
   "source": []
  }
 ],
 "metadata": {
  "kernelspec": {
   "display_name": "Python 3",
   "language": "python",
   "name": "python3"
  },
  "language_info": {
   "codemirror_mode": {
    "name": "ipython",
    "version": 3
   },
   "file_extension": ".py",
   "mimetype": "text/x-python",
   "name": "python",
   "nbconvert_exporter": "python",
   "pygments_lexer": "ipython3",
   "version": "3.7.11"
  }
 },
 "nbformat": 4,
 "nbformat_minor": 5
}
